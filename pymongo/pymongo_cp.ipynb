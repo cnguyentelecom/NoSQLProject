{
 "cells": [
  {
   "cell_type": "markdown",
   "metadata": {},
   "source": [
    "## Création de la base test"
   ]
  },
  {
   "cell_type": "markdown",
   "metadata": {},
   "source": [
    "Populate three collections, 'mentions', 'events', and 'medias', of a 'nosqlproject' database:"
   ]
  },
  {
   "cell_type": "raw",
   "metadata": {},
   "source": [
    "mongoimport --db nosqlproject --collection events --file 20170101073000.export.CSV --type tsv --fields GlobalEventID,Day,MonthYear,Year,FractionDate,Actor1Code,Actor1Name,Actor1CountryCode,Actor1KnownGroupCode,Actor1EthnicCode,Actor1Religion1Code,Actor1Religion2Code,Actor1Type1Code,Actor1Type2Code,Actor1Type3Code,Actor2Code,Actor2Name,Actor2CountryCode,Actor2KnownGroupCode,Actor2EthnicCode,Actor2Religion1Code,Actor2Religion2Code,Actor2Type1Code,Actor2Type2Code,Actor2Type3Code,IsRootEvent,EventCode,EventBaseCode,EventRootCode,QuadClass,GoldsteinScale,NumMentions,NumSources,NumArticles,AvgTone,Actor1Geo_Type,Actor1Geo_FullName,Actor1Geo_CountryCode,Actor1Geo_ADM1Code,Actor1Geo_ADM2Code,Actor1Geo_Lat,Actor1Geo_Long,Actor1Geo_FeatureID,Actor2Geo_Type,Actor2Geo_FullName,Actor2Geo_CountryCode,Actor2Geo_ADM1Code,Actor2Geo_ADM2Code,Actor2Geo_Lat,Actor2Geo_Long,Actor2Geo_FeatureID,ActionGeo_Type,ActionGeo_FullName,ActionGeo_CountryCode,ActionGeo_ADM1Code,ActionGeo_ADM2Code,ActionGeo_Lat,ActionGeo_Long,ActionGeo_FeatureID,DATEADDED,SOURCEURL\n",
    "\n",
    "mongoimport --db nosqlproject --collection mentions --file 20170101073000.mentions.CSV --type tsv --fields GlobalEventID,EventTimeDate,MentionTimeDate,MentionType,MentionSourceName,MentionIdentifier,SentenceID,Actor1CharOffset,Actor2CharOffset,ActionCharOffset,InRawText,Confidence,MentionDocLen,MentionDocTone,MentionDocTranslationInfo,Extras\n",
    "\n",
    "mongoimport --db nosqlproject --collection medias --file medias.csv --type csv --headerline"
   ]
  },
  {
   "cell_type": "markdown",
   "metadata": {},
   "source": [
    "Merge 'medias' to 'mentions' and keep fields of interest --> 'mentions_short':"
   ]
  },
  {
   "cell_type": "raw",
   "metadata": {},
   "source": [
    "db.mentions.aggregate([\n",
    "    {$lookup: {\n",
    "        from: \"medias\",\n",
    "        localField: \"MentionSourceName\",\n",
    "        foreignField: \"Domain\",\n",
    "        as: \"mentions_short\"\n",
    "    }\n",
    "    },\n",
    "    {$replaceRoot: {newRoot: {$mergeObjects: [{$arrayElemAt: [\"$mentions_short\", 0]}, \"$$ROOT\"]}}\n",
    "     },\n",
    "    {$project: {GlobalEventID: 1,  MentionTimeDate: 1, MentionType: 1, FIPSCountryCode: 1,  MentionDocTone: 1}},\n",
    "    {$out: \"mentions_short\"}\n",
    "])"
   ]
  },
  {
   "cell_type": "markdown",
   "metadata": {},
   "source": [
    "Keep fields of interest --> 'events_short':"
   ]
  },
  {
   "cell_type": "raw",
   "metadata": {},
   "source": [
    "db.events.aggregate([\n",
    "    {$project: {GlobalEventID: 1, Day: 1, Actor1Code: 1, Actor1Name: 1, Actor1CountryCode: 1, Actor1Geo_CountryCode: 1}},\n",
    "    {$out: \"events_short\"}\n",
    "])"
   ]
  },
  {
   "cell_type": "markdown",
   "metadata": {},
   "source": [
    "Create indexes to speed up requests:"
   ]
  },
  {
   "cell_type": "raw",
   "metadata": {},
   "source": [
    "db.mentions_short.createIndex(\n",
    "    {MentionTimeDate: 1, MentionType: 1, FIPSCountryCode: 1})\n",
    "\n",
    "db.events_short.createIndex(\n",
    "    {GlobalEventID: 1, Actor1Code: 1, Actor1Geo_CountryCode: 1})"
   ]
  },
  {
   "cell_type": "markdown",
   "metadata": {},
   "source": [
    "## Prise en main"
   ]
  },
  {
   "cell_type": "code",
   "execution_count": 1,
   "metadata": {
    "collapsed": true
   },
   "outputs": [],
   "source": [
    "import pymongo\n",
    "import pprint"
   ]
  },
  {
   "cell_type": "code",
   "execution_count": 2,
   "metadata": {},
   "outputs": [
    {
     "data": {
      "text/plain": [
       "['mentions', 'events_short', 'medias', 'mentions_short', 'events']"
      ]
     },
     "execution_count": 2,
     "metadata": {},
     "output_type": "execute_result"
    }
   ],
   "source": [
    "client = pymongo.MongoClient(\"localhost\", 27017)\n",
    "#client.database_names()\n",
    "client.nosqlproject.collection_names()"
   ]
  },
  {
   "cell_type": "code",
   "execution_count": 3,
   "metadata": {},
   "outputs": [
    {
     "data": {
      "text/plain": [
       "{'Actor1Code': 'JUDJUD',\n",
       " 'Actor1CountryCode': '',\n",
       " 'Actor1Geo_CountryCode': 'US',\n",
       " 'Actor1Name': 'DISTRICT COURT',\n",
       " 'Day': 20160102,\n",
       " 'GlobalEventID': 613300833,\n",
       " '_id': ObjectId('5a5db49342f86f1ffa1fc65d')}"
      ]
     },
     "execution_count": 3,
     "metadata": {},
     "output_type": "execute_result"
    }
   ],
   "source": [
    "client.nosqlproject.events_short.find_one()"
   ]
  },
  {
   "cell_type": "code",
   "execution_count": 4,
   "metadata": {},
   "outputs": [
    {
     "data": {
      "text/plain": [
       "{'FIPSCountryCode': 'UK',\n",
       " 'GlobalEventID': 498730437,\n",
       " 'MentionDocTone': 2.15686274509804,\n",
       " 'MentionTimeDate': 20170101073000,\n",
       " 'MentionType': 1,\n",
       " '_id': ObjectId('5a5db44f42f86f1ffa1fbe88')}"
      ]
     },
     "execution_count": 4,
     "metadata": {},
     "output_type": "execute_result"
    }
   ],
   "source": [
    "client.nosqlproject.mentions_short.find_one()"
   ]
  },
  {
   "cell_type": "markdown",
   "metadata": {},
   "source": [
    "## Opinion moyenne dans le monde"
   ]
  },
  {
   "cell_type": "code",
   "execution_count": 5,
   "metadata": {},
   "outputs": [
    {
     "data": {
      "text/plain": [
       "[{'_id': None, 'count': 1, 'tone': -6.9277108433735},\n",
       " {'_id': 'IS', 'count': 2, 'tone': -2.89330922242315},\n",
       " {'_id': 'UK', 'count': 1, 'tone': -6.57596371882086},\n",
       " {'_id': 'US', 'count': 4, 'tone': -5.13698630136987}]"
      ]
     },
     "execution_count": 5,
     "metadata": {},
     "output_type": "execute_result"
    }
   ],
   "source": [
    "DateStart = 20170101073000\n",
    "DateEnd = 20170101073000\n",
    "\n",
    "pipeline = [{'$lookup':\n",
    "             {'from': \"events_short\",\n",
    "              'let': {\"event_id\": \"$GlobalEventID\", \"mention_type\": \"$MentionType\", \"mention_date\": \"$MentionTimeDate\"},\n",
    "              'pipeline': [\n",
    "                  {'$match':\n",
    "                   {'$expr':\n",
    "                    {'$and':\n",
    "                     [\n",
    "                         {'$lte': [\"$$mention_date\",  DateStart]},\n",
    "                         {'$gte': [\"$$mention_date\",  DateEnd]},\n",
    "                         {'$eq': [\"$$mention_type\",  1]},  # 1 = WEB\n",
    "                         # join on GlobalEventID\n",
    "                         {'$eq': [\"$GlobalEventID\",  \"$$event_id\"]},\n",
    "                         #{'$or': [{'$eq': [\"$Actor1Code\",  \"USAGOV\"]}, {'$and': [{'$eq': [\"$Actor1Code\",  \"GOV\"]}, {'$eq': [\"$Actor1Geo_CountryCode\",  \"US\"]}]}]}\n",
    "                         {'$eq': [\"$Actor1Code\",  \"USAGOV\"]}\n",
    "                     ]\n",
    "                     }\n",
    "                    }\n",
    "                   }\n",
    "              ],\n",
    "              'as': \"mentions_usa\"\n",
    "              }\n",
    "             },\n",
    "            {'$match': {\"mentions_usa\": {'$ne': []}}\n",
    "             },\n",
    "            {'$group': {\"_id\": \"$FIPSCountryCode\", \"tone\": {\n",
    "                '$avg': \"$MentionDocTone\"}, \"count\": {'$sum': 1}}}\n",
    "            ]\n",
    "\n",
    "list(client.nosqlproject.mentions_short.aggregate(pipeline))"
   ]
  },
  {
   "cell_type": "markdown",
   "metadata": {},
   "source": [
    "## Évolution de la perception d'un pays"
   ]
  },
  {
   "cell_type": "code",
   "execution_count": 6,
   "metadata": {},
   "outputs": [
    {
     "data": {
      "text/plain": [
       "[{'FIPSCountryCode': 'US',\n",
       "  'GlobalEventID': 613301532,\n",
       "  'MentionDocTone': -5.13698630136987,\n",
       "  'MentionTimeDate': 20170101073000,\n",
       "  'MentionType': 1,\n",
       "  '_id': ObjectId('5a5db45042f86f1ffa1fc5f6'),\n",
       "  'mentions_usa': [{'Actor1Code': 'USAGOV',\n",
       "    'Actor1CountryCode': 'USA',\n",
       "    'Actor1Geo_CountryCode': 'US',\n",
       "    'Actor1Name': 'OBAMA',\n",
       "    'Day': 20170101,\n",
       "    'GlobalEventID': 613301532,\n",
       "    '_id': ObjectId('5a5db49442f86f1ffa1fc919')}]},\n",
       " {'FIPSCountryCode': 'US',\n",
       "  'GlobalEventID': 613301533,\n",
       "  'MentionDocTone': -5.13698630136987,\n",
       "  'MentionTimeDate': 20170101073000,\n",
       "  'MentionType': 1,\n",
       "  '_id': ObjectId('5a5db45042f86f1ffa1fc5f7'),\n",
       "  'mentions_usa': [{'Actor1Code': 'USAGOV',\n",
       "    'Actor1CountryCode': 'USA',\n",
       "    'Actor1Geo_CountryCode': 'IS',\n",
       "    'Actor1Name': 'OBAMA',\n",
       "    'Day': 20170101,\n",
       "    'GlobalEventID': 613301533,\n",
       "    '_id': ObjectId('5a5db49442f86f1ffa1fc91a')}]},\n",
       " {'FIPSCountryCode': 'US',\n",
       "  'GlobalEventID': 613301534,\n",
       "  'MentionDocTone': -5.13698630136987,\n",
       "  'MentionTimeDate': 20170101073000,\n",
       "  'MentionType': 1,\n",
       "  '_id': ObjectId('5a5db45042f86f1ffa1fc5f9'),\n",
       "  'mentions_usa': [{'Actor1Code': 'USAGOV',\n",
       "    'Actor1CountryCode': 'USA',\n",
       "    'Actor1Geo_CountryCode': 'IS',\n",
       "    'Actor1Name': 'OBAMA',\n",
       "    'Day': 20170101,\n",
       "    'GlobalEventID': 613301534,\n",
       "    '_id': ObjectId('5a5db49442f86f1ffa1fc91b')}]},\n",
       " {'FIPSCountryCode': 'US',\n",
       "  'GlobalEventID': 613301535,\n",
       "  'MentionDocTone': -5.13698630136987,\n",
       "  'MentionTimeDate': 20170101073000,\n",
       "  'MentionType': 1,\n",
       "  '_id': ObjectId('5a5db45042f86f1ffa1fc5fa'),\n",
       "  'mentions_usa': [{'Actor1Code': 'USAGOV',\n",
       "    'Actor1CountryCode': 'USA',\n",
       "    'Actor1Geo_CountryCode': 'IS',\n",
       "    'Actor1Name': 'OBAMA',\n",
       "    'Day': 20170101,\n",
       "    'GlobalEventID': 613301535,\n",
       "    '_id': ObjectId('5a5db49442f86f1ffa1fc91c')}]}]"
      ]
     },
     "execution_count": 6,
     "metadata": {},
     "output_type": "execute_result"
    }
   ],
   "source": [
    "DateStart = 20170101073000\n",
    "DateEnd = 20170101073000\n",
    "CountryCode = 'US'\n",
    "\n",
    "pipeline = [{'$lookup':\n",
    "             {'from': \"events_short\",\n",
    "              'let': {\"event_id\": \"$GlobalEventID\", \"mention_type\": \"$MentionType\", \"mention_date\": \"$MentionTimeDate\", \"country_code\": \"$FIPSCountryCode\"},\n",
    "              'pipeline': [\n",
    "                  {'$match':\n",
    "                   {'$expr':\n",
    "                    {'$and':\n",
    "                     [\n",
    "                         {'$lte': [\"$$mention_date\",  DateStart]},\n",
    "                         {'$gte': [\"$$mention_date\",  DateEnd]},\n",
    "                         {'$eq': [\"$$mention_type\",  1]},  # 1 = WEB\n",
    "                         # join on GlobalEventID\n",
    "                         {'$eq': [\"$GlobalEventID\",  \"$$event_id\"]},\n",
    "                         #{'$or': [{'$eq': [\"$Actor1Code\",  \"USAGOV\"]}, {'$and': [{'$eq': [\"$Actor1Code\",  \"GOV\"]}, {'$eq': [\"$Actor1Geo_CountryCode\",  \"US\"]}]}]},\n",
    "                         {'$eq': [\"$Actor1Code\",  \"USAGOV\"]},\n",
    "                         {'$eq': [\"$$country_code\",  CountryCode]}\n",
    "                     ]\n",
    "                     }\n",
    "                    }\n",
    "                   }\n",
    "              ],\n",
    "              'as': \"mentions_usa\"\n",
    "              }\n",
    "             },\n",
    "            {'$match': {\"mentions_usa\": {'$ne': []}}\n",
    "             }\n",
    "            ]\n",
    "\n",
    "list(client.nosqlproject.mentions_short.aggregate(pipeline))"
   ]
  }
 ],
 "metadata": {
  "kernelspec": {
   "display_name": "Python 3",
   "language": "python",
   "name": "python3"
  },
  "language_info": {
   "codemirror_mode": {
    "name": "ipython",
    "version": 3
   },
   "file_extension": ".py",
   "mimetype": "text/x-python",
   "name": "python",
   "nbconvert_exporter": "python",
   "pygments_lexer": "ipython3",
   "version": "3.6.3"
  }
 },
 "nbformat": 4,
 "nbformat_minor": 2
}
